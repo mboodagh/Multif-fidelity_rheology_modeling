{
  "nbformat": 4,
  "nbformat_minor": 0,
  "metadata": {
    "colab": {
      "provenance": []
    },
    "kernelspec": {
      "name": "python3",
      "display_name": "Python 3"
    },
    "language_info": {
      "name": "python"
    }
  },
  "cells": [
    {
      "cell_type": "markdown",
      "source": [
        "In this notebook file, we are going to show how expensive data obtained from numerical simulations can be combined with low-fidelity data obtained from constitutive equations to build a multi-fidelity surrogate to predict the rheological properties of a suspension of fibers. We will be using the Gaussian process (GP) and neural networks (NN) to build physics-informed GP and NN. First, we will focus on the single-fidelity model; then, we will switch to multi-fidelity models."
      ],
      "metadata": {
        "id": "0yFCJ9rN4fWz"
      }
    },
    {
      "cell_type": "markdown",
      "source": [
        "Installing and importing the required modules"
      ],
      "metadata": {
        "id": "kFzckwAzyvrc"
      }
    },
    {
      "cell_type": "code",
      "execution_count": 10,
      "metadata": {
        "id": "YyXXyGvt4YJ7",
        "colab": {
          "base_uri": "https://localhost:8080/"
        },
        "outputId": "f60dc0cf-d123-494f-9bc9-47acab5b3a12"
      },
      "outputs": [
        {
          "output_type": "stream",
          "name": "stdout",
          "text": [
            "Looking in indexes: https://pypi.org/simple, https://us-python.pkg.dev/colab-wheels/public/simple/\n",
            "Requirement already satisfied: GPy in /usr/local/lib/python3.7/dist-packages (1.10.0)\n",
            "Requirement already satisfied: six in /usr/local/lib/python3.7/dist-packages (from GPy) (1.15.0)\n",
            "Requirement already satisfied: numpy>=1.7 in /usr/local/lib/python3.7/dist-packages (from GPy) (1.21.6)\n",
            "Requirement already satisfied: paramz>=0.9.0 in /usr/local/lib/python3.7/dist-packages (from GPy) (0.9.5)\n",
            "Requirement already satisfied: cython>=0.29 in /usr/local/lib/python3.7/dist-packages (from GPy) (0.29.32)\n",
            "Requirement already satisfied: scipy>=1.3.0 in /usr/local/lib/python3.7/dist-packages (from GPy) (1.7.3)\n",
            "Requirement already satisfied: decorator>=4.0.10 in /usr/local/lib/python3.7/dist-packages (from paramz>=0.9.0->GPy) (4.4.2)\n"
          ]
        }
      ],
      "source": [
        "!pip install --upgrade GPy\n",
        "\n",
        "#################importing the libraries##############\n",
        "import GPy\n",
        "import torch\n",
        "import torch.nn.functional as F\n",
        "import torch.utils.data as Data\n",
        "import os\n",
        "import pandas as pd\n",
        "import matplotlib.pyplot as plt\n",
        "import numpy as np\n",
        "import imageio\n",
        "import seaborn as sns\n",
        "import random\n",
        "import time\n",
        "from sklearn.metrics import r2_score\n",
        "from sklearn.metrics import mean_squared_error\n"
      ]
    },
    {
      "cell_type": "markdown",
      "source": [
        "**Single fidelity DNN**\n",
        "\n",
        "Here, we read the high-fidelity train and test dataset and use them for training and testing a single-fidelity network."
      ],
      "metadata": {
        "id": "ukxefwJN2MsK"
      }
    },
    {
      "cell_type": "code",
      "source": [
        "data_train=pd.read_csv(\"/content/drive/MyDrive/Rheology/Data_github/Data_highfidelity_train_short.csv\")\n",
        "data_test=pd.read_csv(\"/content/drive/MyDrive/Rheology/Data_github/Data_highfidelity_test.csv\")\n",
        "\n",
        "data_train.dropna(inplace=True,axis=1, how='all')\n",
        "#data_test.dropna(inplace=True)\n",
        "X_DNN_train=data_train.drop(['viscosity','Re'], axis=1).to_numpy()\n",
        "y_DNN_train=data_train[[\"viscosity\"]].to_numpy()\n",
        "X_DNN_test=data_test.drop(['viscosity','Re'], axis=1).to_numpy()\n",
        "y_DNN_test=data_test[[\"viscosity\"]].to_numpy()\n",
        "from sklearn.model_selection import train_test_split\n",
        "from sklearn.preprocessing import MinMaxScaler\n",
        "scale_new=MinMaxScaler()\n",
        "X_DNN_train_scaled = scale_new.fit_transform(X_DNN_train)\n",
        "X_DNN_test_scaled = scale_new.transform(X_DNN_test)\n",
        "X_DNN_torch_train=torch.tensor(X_DNN_train_scaled).float()\n",
        "y_DNN_torch_train=torch.tensor(y_DNN_train).float()\n",
        "X_DNN_torch_test=torch.tensor(X_DNN_test_scaled).float()\n",
        "y_DNN_torch_test=torch.tensor(y_DNN_test).float()\n"
      ],
      "metadata": {
        "id": "tgMOX9Mp0K3f"
      },
      "execution_count": 112,
      "outputs": []
    },
    {
      "cell_type": "markdown",
      "source": [
        "**Data inputs and outputs**\n",
        "\n",
        "\n",
        "Shear rate, aspect ratio (AR), roughness rigidity, and volume fraction are the inputs to all the models. The viscosity is the output of the models. \n"
      ],
      "metadata": {
        "id": "TKLqAgKmjVmq"
      }
    },
    {
      "cell_type": "code",
      "source": [
        "data_train.head()"
      ],
      "metadata": {
        "colab": {
          "base_uri": "https://localhost:8080/",
          "height": 206
        },
        "id": "LtodNfXNkQ_u",
        "outputId": "c2510226-951c-4449-8c4a-7d2fbbd59b60"
      },
      "execution_count": 106,
      "outputs": [
        {
          "output_type": "execute_result",
          "data": {
            "text/plain": [
              "   shear rate  Re  AR  roughness  rigidity  volume fraction  viscosity\n",
              "0           1   1  16       0.05      0.02             0.05       5.00\n",
              "1           2   1  16       0.05      0.02             0.05       4.00\n",
              "2           5   1  16       0.05      0.02             0.05       2.45\n",
              "3          10   1  16       0.05      0.02             0.05       1.84\n",
              "4          30   1  16       0.05      0.02             0.05       1.70"
            ],
            "text/html": [
              "\n",
              "  <div id=\"df-e09b13f9-91eb-4eb3-bfa8-57cb25543076\">\n",
              "    <div class=\"colab-df-container\">\n",
              "      <div>\n",
              "<style scoped>\n",
              "    .dataframe tbody tr th:only-of-type {\n",
              "        vertical-align: middle;\n",
              "    }\n",
              "\n",
              "    .dataframe tbody tr th {\n",
              "        vertical-align: top;\n",
              "    }\n",
              "\n",
              "    .dataframe thead th {\n",
              "        text-align: right;\n",
              "    }\n",
              "</style>\n",
              "<table border=\"1\" class=\"dataframe\">\n",
              "  <thead>\n",
              "    <tr style=\"text-align: right;\">\n",
              "      <th></th>\n",
              "      <th>shear rate</th>\n",
              "      <th>Re</th>\n",
              "      <th>AR</th>\n",
              "      <th>roughness</th>\n",
              "      <th>rigidity</th>\n",
              "      <th>volume fraction</th>\n",
              "      <th>viscosity</th>\n",
              "    </tr>\n",
              "  </thead>\n",
              "  <tbody>\n",
              "    <tr>\n",
              "      <th>0</th>\n",
              "      <td>1</td>\n",
              "      <td>1</td>\n",
              "      <td>16</td>\n",
              "      <td>0.05</td>\n",
              "      <td>0.02</td>\n",
              "      <td>0.05</td>\n",
              "      <td>5.00</td>\n",
              "    </tr>\n",
              "    <tr>\n",
              "      <th>1</th>\n",
              "      <td>2</td>\n",
              "      <td>1</td>\n",
              "      <td>16</td>\n",
              "      <td>0.05</td>\n",
              "      <td>0.02</td>\n",
              "      <td>0.05</td>\n",
              "      <td>4.00</td>\n",
              "    </tr>\n",
              "    <tr>\n",
              "      <th>2</th>\n",
              "      <td>5</td>\n",
              "      <td>1</td>\n",
              "      <td>16</td>\n",
              "      <td>0.05</td>\n",
              "      <td>0.02</td>\n",
              "      <td>0.05</td>\n",
              "      <td>2.45</td>\n",
              "    </tr>\n",
              "    <tr>\n",
              "      <th>3</th>\n",
              "      <td>10</td>\n",
              "      <td>1</td>\n",
              "      <td>16</td>\n",
              "      <td>0.05</td>\n",
              "      <td>0.02</td>\n",
              "      <td>0.05</td>\n",
              "      <td>1.84</td>\n",
              "    </tr>\n",
              "    <tr>\n",
              "      <th>4</th>\n",
              "      <td>30</td>\n",
              "      <td>1</td>\n",
              "      <td>16</td>\n",
              "      <td>0.05</td>\n",
              "      <td>0.02</td>\n",
              "      <td>0.05</td>\n",
              "      <td>1.70</td>\n",
              "    </tr>\n",
              "  </tbody>\n",
              "</table>\n",
              "</div>\n",
              "      <button class=\"colab-df-convert\" onclick=\"convertToInteractive('df-e09b13f9-91eb-4eb3-bfa8-57cb25543076')\"\n",
              "              title=\"Convert this dataframe to an interactive table.\"\n",
              "              style=\"display:none;\">\n",
              "        \n",
              "  <svg xmlns=\"http://www.w3.org/2000/svg\" height=\"24px\"viewBox=\"0 0 24 24\"\n",
              "       width=\"24px\">\n",
              "    <path d=\"M0 0h24v24H0V0z\" fill=\"none\"/>\n",
              "    <path d=\"M18.56 5.44l.94 2.06.94-2.06 2.06-.94-2.06-.94-.94-2.06-.94 2.06-2.06.94zm-11 1L8.5 8.5l.94-2.06 2.06-.94-2.06-.94L8.5 2.5l-.94 2.06-2.06.94zm10 10l.94 2.06.94-2.06 2.06-.94-2.06-.94-.94-2.06-.94 2.06-2.06.94z\"/><path d=\"M17.41 7.96l-1.37-1.37c-.4-.4-.92-.59-1.43-.59-.52 0-1.04.2-1.43.59L10.3 9.45l-7.72 7.72c-.78.78-.78 2.05 0 2.83L4 21.41c.39.39.9.59 1.41.59.51 0 1.02-.2 1.41-.59l7.78-7.78 2.81-2.81c.8-.78.8-2.07 0-2.86zM5.41 20L4 18.59l7.72-7.72 1.47 1.35L5.41 20z\"/>\n",
              "  </svg>\n",
              "      </button>\n",
              "      \n",
              "  <style>\n",
              "    .colab-df-container {\n",
              "      display:flex;\n",
              "      flex-wrap:wrap;\n",
              "      gap: 12px;\n",
              "    }\n",
              "\n",
              "    .colab-df-convert {\n",
              "      background-color: #E8F0FE;\n",
              "      border: none;\n",
              "      border-radius: 50%;\n",
              "      cursor: pointer;\n",
              "      display: none;\n",
              "      fill: #1967D2;\n",
              "      height: 32px;\n",
              "      padding: 0 0 0 0;\n",
              "      width: 32px;\n",
              "    }\n",
              "\n",
              "    .colab-df-convert:hover {\n",
              "      background-color: #E2EBFA;\n",
              "      box-shadow: 0px 1px 2px rgba(60, 64, 67, 0.3), 0px 1px 3px 1px rgba(60, 64, 67, 0.15);\n",
              "      fill: #174EA6;\n",
              "    }\n",
              "\n",
              "    [theme=dark] .colab-df-convert {\n",
              "      background-color: #3B4455;\n",
              "      fill: #D2E3FC;\n",
              "    }\n",
              "\n",
              "    [theme=dark] .colab-df-convert:hover {\n",
              "      background-color: #434B5C;\n",
              "      box-shadow: 0px 1px 3px 1px rgba(0, 0, 0, 0.15);\n",
              "      filter: drop-shadow(0px 1px 2px rgba(0, 0, 0, 0.3));\n",
              "      fill: #FFFFFF;\n",
              "    }\n",
              "  </style>\n",
              "\n",
              "      <script>\n",
              "        const buttonEl =\n",
              "          document.querySelector('#df-e09b13f9-91eb-4eb3-bfa8-57cb25543076 button.colab-df-convert');\n",
              "        buttonEl.style.display =\n",
              "          google.colab.kernel.accessAllowed ? 'block' : 'none';\n",
              "\n",
              "        async function convertToInteractive(key) {\n",
              "          const element = document.querySelector('#df-e09b13f9-91eb-4eb3-bfa8-57cb25543076');\n",
              "          const dataTable =\n",
              "            await google.colab.kernel.invokeFunction('convertToInteractive',\n",
              "                                                     [key], {});\n",
              "          if (!dataTable) return;\n",
              "\n",
              "          const docLinkHtml = 'Like what you see? Visit the ' +\n",
              "            '<a target=\"_blank\" href=https://colab.research.google.com/notebooks/data_table.ipynb>data table notebook</a>'\n",
              "            + ' to learn more about interactive tables.';\n",
              "          element.innerHTML = '';\n",
              "          dataTable['output_type'] = 'display_data';\n",
              "          await google.colab.output.renderOutput(dataTable, element);\n",
              "          const docLink = document.createElement('div');\n",
              "          docLink.innerHTML = docLinkHtml;\n",
              "          element.appendChild(docLink);\n",
              "        }\n",
              "      </script>\n",
              "    </div>\n",
              "  </div>\n",
              "  "
            ]
          },
          "metadata": {},
          "execution_count": 106
        }
      ]
    },
    {
      "cell_type": "code",
      "source": [
        "weight_decay=0\n",
        "\n",
        "random.seed(0)\n",
        "torch.manual_seed(0)\n",
        "torch.cuda.manual_seed(0)\n",
        "np.random.seed(0)\n",
        "N_n=20 #number of nuerons\n",
        "N_l=2  #number of hidden layers\n",
        "\n",
        "net_DNN = torch.nn.Sequential(\n",
        "        torch.nn.Linear(X_DNN_torch_train.shape[1], N_n),\n",
        "        torch.nn.ReLU(),\n",
        "        torch.nn.Linear(N_n,N_n),\n",
        "        torch.nn.ReLU(),\n",
        "#        torch.nn.Linear(N_n, N_n),\n",
        "#       torch.nn.ReLU(),\n",
        "#        torch.nn.Linear(N_n, N_n),\n",
        "#        torch.nn.ReLU(),\n",
        "#        torch.nn.Linear(N_n, N_n),\n",
        "#        torch.nn.ReLU(),\n",
        "        torch.nn.Linear(N_n, 1),\n",
        "\n",
        "    )\n",
        "\n",
        "optimizer_DNN = torch.optim.Adam(net_DNN.parameters(), lr=0.001, weight_decay=weight_decay)\n",
        "loss_func = torch.nn.MSELoss()  \n",
        "\n",
        "loss_DNN_train_tally=[]\n",
        "loss_DNN_test_tally=[]\n",
        "epochs=range(1,10000)\n",
        "for t in epochs: \n",
        "    prediction_DNN_train = net_DNN(X_DNN_torch_train)\n",
        "    prediction_DNN_test= net_DNN(X_DNN_torch_test)\n",
        "    loss_DNN_train=loss_func(prediction_DNN_train, y_DNN_torch_train)     \n",
        "    loss_DNN_train_tally.append(loss_DNN_train.detach().numpy())\n",
        "    loss_DNN_test=loss_func(prediction_DNN_test, y_DNN_torch_test)\n",
        "    loss_DNN_test_tally.append(loss_DNN_test.detach().numpy())     \n",
        "    optimizer_DNN.zero_grad()  \n",
        "    loss_DNN_train.backward()        \n",
        "    optimizer_DNN.step()        \n",
        "      \n",
        "\n",
        "print('DNN_loss=',np.round_(loss_DNN_test_tally[-1],4))\n",
        "print('DNN_R2score=',np.round_(r2_score(y_DNN_test, prediction_DNN_test.detach().numpy()),4))"
      ],
      "metadata": {
        "colab": {
          "base_uri": "https://localhost:8080/"
        },
        "id": "NXlJrCU8kVV2",
        "outputId": "abd6dc9f-3352-40c8-d2a4-f83bed3b5b55"
      },
      "execution_count": 107,
      "outputs": [
        {
          "output_type": "stream",
          "name": "stdout",
          "text": [
            "DNN_loss= 16.1298\n",
            "DNN_R2score= 0.7575\n"
          ]
        }
      ]
    },
    {
      "cell_type": "markdown",
      "source": [
        "**Creating low-fidelity dataset**\n",
        "\n",
        "We fitted the Casson constitutive equation shown below to the high-fidelity data to determine the coefficients ($\\tau_0$, $k_c$) of casson equation as a function of suspension properties, i.e., aspect ratio (AR), roughness rigidity, and volume fraction.\n",
        "\n",
        "$$ \\sqrt{\\tau}=\\sqrt{\\tau_0}+\\sqrt{k_c \\dot{\\Gamma}} $$ \n",
        "\n",
        "After obtaining the coefficients as a function of suspension properties, we will use Neural Networks to create a model that predicts the coefficients of the Casson constitutive equations as a function of suspension properties. Then, we will use the constitutive equations to generate the low-fidelity data.\n",
        "\n",
        "\n"
      ],
      "metadata": {
        "id": "aoFUurrOl022"
      }
    },
    {
      "cell_type": "code",
      "source": [
        "###########Casson\n",
        "data_train=pd.read_csv(\"/content/drive/MyDrive/Rheology/Data_github/coefficients_Casson_train.csv\")\n",
        "data_test=pd.read_csv(\"/content/drive/MyDrive/Rheology/Data_github/coefficients_Casson_test.csv\")\n",
        "X_train=data_train[['AR','roughness','rigidity','volume fraction']]\n",
        "multiplier=1\n",
        "y_train=data_train[['tau_0', 'k']]*multiplier\n",
        "X_test=data_test[['AR','roughness','rigidity','volume fraction']]\n",
        "y_test=data_test[['tau_0', 'k']]*multiplier\n",
        "from sklearn.model_selection import train_test_split\n",
        "from sklearn.preprocessing import MinMaxScaler\n",
        "scale=MinMaxScaler()\n",
        "X_train_scaled = scale.fit_transform(X_train)\n",
        "X_test_scaled = scale.transform(X_test)\n",
        "X_torch_train=torch.tensor(X_train_scaled).float()\n",
        "y_torch_train=torch.tensor(y_train.to_numpy()).float()\n",
        "X_torch_test=torch.tensor(X_test_scaled).float()\n",
        "y_torch_test=torch.tensor(y_test.to_numpy()).float()\n",
        "\n",
        "\n",
        "X_test.head(5)\n",
        "\n",
        "data_train_coeff=pd.read_csv(\"/content/drive/MyDrive/Rheology/Data_github/coefficients_Casson_train.csv\")\n",
        "data_test_coeff=pd.read_csv(\"/content/drive/MyDrive/Rheology/Data_github/coefficients_Casson_test.csv\")\n",
        "X_coeff_train=data_train_coeff[['AR','roughness','rigidity','volume fraction']].to_numpy()\n",
        "y_coeff_train=data_train_coeff[['tau_0', 'k']].to_numpy()\n",
        "X_coeff_test=data_test_coeff[['AR','roughness','rigidity','volume fraction']].to_numpy()\n",
        "y_coeff_test=data_test_coeff[['tau_0', 'k']].to_numpy()\n",
        "data_train_coeff.head(5)\n"
      ],
      "metadata": {
        "colab": {
          "base_uri": "https://localhost:8080/",
          "height": 206
        },
        "id": "uOBY7wopLBGE",
        "outputId": "414e6156-a352-4da2-d161-19c47d3b5b81"
      },
      "execution_count": 67,
      "outputs": [
        {
          "output_type": "execute_result",
          "data": {
            "text/plain": [
              "     AR  roughness  rigidity  volume fraction      tau_0         k\n",
              "0  16.0      0.050      0.02             0.05   1.478502  1.105007\n",
              "1  16.0      0.050      0.02             0.07   2.946580  1.127341\n",
              "2  16.0      0.050      0.02             0.15  10.228933  4.262997\n",
              "3  16.0      0.005      0.02             0.10   2.859709  3.641155\n",
              "4  16.0      0.025      0.02             0.10   4.678758  3.919547"
            ],
            "text/html": [
              "\n",
              "  <div id=\"df-2c7df023-aec4-492c-8125-2416d0b2a887\">\n",
              "    <div class=\"colab-df-container\">\n",
              "      <div>\n",
              "<style scoped>\n",
              "    .dataframe tbody tr th:only-of-type {\n",
              "        vertical-align: middle;\n",
              "    }\n",
              "\n",
              "    .dataframe tbody tr th {\n",
              "        vertical-align: top;\n",
              "    }\n",
              "\n",
              "    .dataframe thead th {\n",
              "        text-align: right;\n",
              "    }\n",
              "</style>\n",
              "<table border=\"1\" class=\"dataframe\">\n",
              "  <thead>\n",
              "    <tr style=\"text-align: right;\">\n",
              "      <th></th>\n",
              "      <th>AR</th>\n",
              "      <th>roughness</th>\n",
              "      <th>rigidity</th>\n",
              "      <th>volume fraction</th>\n",
              "      <th>tau_0</th>\n",
              "      <th>k</th>\n",
              "    </tr>\n",
              "  </thead>\n",
              "  <tbody>\n",
              "    <tr>\n",
              "      <th>0</th>\n",
              "      <td>16.0</td>\n",
              "      <td>0.050</td>\n",
              "      <td>0.02</td>\n",
              "      <td>0.05</td>\n",
              "      <td>1.478502</td>\n",
              "      <td>1.105007</td>\n",
              "    </tr>\n",
              "    <tr>\n",
              "      <th>1</th>\n",
              "      <td>16.0</td>\n",
              "      <td>0.050</td>\n",
              "      <td>0.02</td>\n",
              "      <td>0.07</td>\n",
              "      <td>2.946580</td>\n",
              "      <td>1.127341</td>\n",
              "    </tr>\n",
              "    <tr>\n",
              "      <th>2</th>\n",
              "      <td>16.0</td>\n",
              "      <td>0.050</td>\n",
              "      <td>0.02</td>\n",
              "      <td>0.15</td>\n",
              "      <td>10.228933</td>\n",
              "      <td>4.262997</td>\n",
              "    </tr>\n",
              "    <tr>\n",
              "      <th>3</th>\n",
              "      <td>16.0</td>\n",
              "      <td>0.005</td>\n",
              "      <td>0.02</td>\n",
              "      <td>0.10</td>\n",
              "      <td>2.859709</td>\n",
              "      <td>3.641155</td>\n",
              "    </tr>\n",
              "    <tr>\n",
              "      <th>4</th>\n",
              "      <td>16.0</td>\n",
              "      <td>0.025</td>\n",
              "      <td>0.02</td>\n",
              "      <td>0.10</td>\n",
              "      <td>4.678758</td>\n",
              "      <td>3.919547</td>\n",
              "    </tr>\n",
              "  </tbody>\n",
              "</table>\n",
              "</div>\n",
              "      <button class=\"colab-df-convert\" onclick=\"convertToInteractive('df-2c7df023-aec4-492c-8125-2416d0b2a887')\"\n",
              "              title=\"Convert this dataframe to an interactive table.\"\n",
              "              style=\"display:none;\">\n",
              "        \n",
              "  <svg xmlns=\"http://www.w3.org/2000/svg\" height=\"24px\"viewBox=\"0 0 24 24\"\n",
              "       width=\"24px\">\n",
              "    <path d=\"M0 0h24v24H0V0z\" fill=\"none\"/>\n",
              "    <path d=\"M18.56 5.44l.94 2.06.94-2.06 2.06-.94-2.06-.94-.94-2.06-.94 2.06-2.06.94zm-11 1L8.5 8.5l.94-2.06 2.06-.94-2.06-.94L8.5 2.5l-.94 2.06-2.06.94zm10 10l.94 2.06.94-2.06 2.06-.94-2.06-.94-.94-2.06-.94 2.06-2.06.94z\"/><path d=\"M17.41 7.96l-1.37-1.37c-.4-.4-.92-.59-1.43-.59-.52 0-1.04.2-1.43.59L10.3 9.45l-7.72 7.72c-.78.78-.78 2.05 0 2.83L4 21.41c.39.39.9.59 1.41.59.51 0 1.02-.2 1.41-.59l7.78-7.78 2.81-2.81c.8-.78.8-2.07 0-2.86zM5.41 20L4 18.59l7.72-7.72 1.47 1.35L5.41 20z\"/>\n",
              "  </svg>\n",
              "      </button>\n",
              "      \n",
              "  <style>\n",
              "    .colab-df-container {\n",
              "      display:flex;\n",
              "      flex-wrap:wrap;\n",
              "      gap: 12px;\n",
              "    }\n",
              "\n",
              "    .colab-df-convert {\n",
              "      background-color: #E8F0FE;\n",
              "      border: none;\n",
              "      border-radius: 50%;\n",
              "      cursor: pointer;\n",
              "      display: none;\n",
              "      fill: #1967D2;\n",
              "      height: 32px;\n",
              "      padding: 0 0 0 0;\n",
              "      width: 32px;\n",
              "    }\n",
              "\n",
              "    .colab-df-convert:hover {\n",
              "      background-color: #E2EBFA;\n",
              "      box-shadow: 0px 1px 2px rgba(60, 64, 67, 0.3), 0px 1px 3px 1px rgba(60, 64, 67, 0.15);\n",
              "      fill: #174EA6;\n",
              "    }\n",
              "\n",
              "    [theme=dark] .colab-df-convert {\n",
              "      background-color: #3B4455;\n",
              "      fill: #D2E3FC;\n",
              "    }\n",
              "\n",
              "    [theme=dark] .colab-df-convert:hover {\n",
              "      background-color: #434B5C;\n",
              "      box-shadow: 0px 1px 3px 1px rgba(0, 0, 0, 0.15);\n",
              "      filter: drop-shadow(0px 1px 2px rgba(0, 0, 0, 0.3));\n",
              "      fill: #FFFFFF;\n",
              "    }\n",
              "  </style>\n",
              "\n",
              "      <script>\n",
              "        const buttonEl =\n",
              "          document.querySelector('#df-2c7df023-aec4-492c-8125-2416d0b2a887 button.colab-df-convert');\n",
              "        buttonEl.style.display =\n",
              "          google.colab.kernel.accessAllowed ? 'block' : 'none';\n",
              "\n",
              "        async function convertToInteractive(key) {\n",
              "          const element = document.querySelector('#df-2c7df023-aec4-492c-8125-2416d0b2a887');\n",
              "          const dataTable =\n",
              "            await google.colab.kernel.invokeFunction('convertToInteractive',\n",
              "                                                     [key], {});\n",
              "          if (!dataTable) return;\n",
              "\n",
              "          const docLinkHtml = 'Like what you see? Visit the ' +\n",
              "            '<a target=\"_blank\" href=https://colab.research.google.com/notebooks/data_table.ipynb>data table notebook</a>'\n",
              "            + ' to learn more about interactive tables.';\n",
              "          element.innerHTML = '';\n",
              "          dataTable['output_type'] = 'display_data';\n",
              "          await google.colab.output.renderOutput(dataTable, element);\n",
              "          const docLink = document.createElement('div');\n",
              "          docLink.innerHTML = docLinkHtml;\n",
              "          element.appendChild(docLink);\n",
              "        }\n",
              "      </script>\n",
              "    </div>\n",
              "  </div>\n",
              "  "
            ]
          },
          "metadata": {},
          "execution_count": 67
        }
      ]
    },
    {
      "cell_type": "code",
      "source": [
        "###Training a neural network for predicting the coefficients of the Casson constitutive equations \n",
        "\n",
        "weight_decay=0.0\n",
        "import random\n",
        "random.seed(0)\n",
        "torch.manual_seed(10)\n",
        "torch.cuda.manual_seed(0)\n",
        "np.random.seed(0)\n",
        "\n",
        "N_n=100\n",
        "net = torch.nn.Sequential(\n",
        "        torch.nn.Linear(X_torch_train.shape[1], N_n),\n",
        "        torch.nn.ReLU(),\n",
        "        torch.nn.Linear(N_n, N_n),\n",
        "        torch.nn.ReLU(),\n",
        "        torch.nn.Linear(N_n, N_n),\n",
        "        torch.nn.ReLU(),\n",
        "        torch.nn.Linear(N_n, N_n),\n",
        "        torch.nn.ReLU(),\n",
        "        torch.nn.Linear(N_n, N_n),\n",
        "        torch.nn.ReLU(),\n",
        "        torch.nn.Linear(N_n, N_n),\n",
        "        torch.nn.ReLU(),\n",
        "        torch.nn.Linear(N_n, y_torch_train.shape[1]),\n",
        "\n",
        "    )\n",
        "# print(net)  # net architecture\n",
        "#optimizer = torch.optim.SGD(net.parameters(), lr=0.001)\n",
        "optimizer = torch.optim.Adam(net.parameters(), lr=0.001, weight_decay=weight_decay)\n",
        "loss_func = torch.nn.MSELoss()  # this is for regression mean squared loss\n",
        "\n",
        "# train the network\n",
        "loss_train=[]\n",
        "loss_test=[]\n",
        "epochs=range(1,10000)\n",
        "for t in epochs: \n",
        "    prediction = net(X_torch_train)\n",
        "    prediction_test= net(X_torch_test)\n",
        "    loss=loss_func(prediction, y_torch_train)     # input x and predict based on x\n",
        "    loss_train.append(loss.detach().numpy())\n",
        "    loss_test.append(loss_func(prediction_test, y_torch_test).detach().numpy())     # must be (1. nn output, 2. target)\n",
        "    optimizer.zero_grad()   # clear gradients for next train\n",
        "    loss.backward()         # backpropagation, compute gradients\n",
        "    optimizer.step()        # apply gradients\n",
        "plt.subplots(figsize=(8,6))\n",
        "plt.plot(epochs,loss_train,label='train loss')\n",
        "plt.plot(epochs,loss_test,label='test loss')\n",
        "plt.xlabel(r'epoch', fontsize=25)\n",
        "plt.ylabel(r'loss', fontsize=25)\n",
        "plt.xticks(weight = 'bold')\n",
        "plt.yticks(weight = 'bold')\n",
        "plt.title('Power Law coefficients loss ',fontsize=20)\n",
        "plt.title('Carreau-Yasuda coefficients loss ',fontsize=20)\n",
        "plt.title('Casson coefficients loss ',fontsize=20)\n",
        "plt.legend(fontsize=15)\n",
        "#plt.tight_layout()\n",
        "#plt.savefig('loss_PL_coefficients',dpi=500)\n",
        "#plt.savefig('Carreau-Yasuda_coefficients',dpi=500)"
      ],
      "metadata": {
        "colab": {
          "base_uri": "https://localhost:8080/",
          "height": 441
        },
        "id": "Kh6H9DUOWONT",
        "outputId": "09189782-a139-4e3b-967b-d25dc3f4b329"
      },
      "execution_count": 40,
      "outputs": [
        {
          "output_type": "execute_result",
          "data": {
            "text/plain": [
              "<matplotlib.legend.Legend at 0x7f59213929d0>"
            ]
          },
          "metadata": {},
          "execution_count": 40
        },
        {
          "output_type": "display_data",
          "data": {
            "text/plain": [
              "<Figure size 576x432 with 1 Axes>"
            ],
            "image/png": "[encoded data removed]"
          },
          "metadata": {
            "needs_background": "light"
          }
        }
      ]
    },
    {
      "cell_type": "code",
      "source": [
        "##########creating the low fidelity data############\n",
        "import random\n",
        "from random import choice\n",
        "\n",
        "random.seed(0)\n",
        "np.random.seed(70)\n",
        "samp=1000\n",
        "#gamma=np.random.random(samp)*2000\n",
        "\n",
        "gammas=[1, 2, 5, 10, 30, 50, 100, 300, 600, 1000]\n",
        "gamma=[]\n",
        "for i in range(samp):\n",
        "    gamma.append(choice(gammas))\n",
        "gamma=np.array(gamma)\n",
        "\n",
        "phi=[0.05,0.07,0.1,0.12,0.15,0.2,0.3,0.4]\n",
        "#phi=np.arange(0.05,0.41,0.01)\n",
        "\n",
        "roughness=np.random.random(samp)*0.1\n",
        "rigidity=np.random.random(samp)*0.1\n",
        "#phi=np.random.random(samp)*0.4\n",
        "\n",
        "ARS=[]\n",
        "AR=[10,16]\n",
        "for i in range(samp):\n",
        "    ARS.append(choice(AR))\n",
        "AR=np.array(ARS)\n",
        "\n",
        "phis=[]\n",
        "for i in range(samp):\n",
        "    phis.append(choice(phi))\n",
        "phi=np.array(phis)\n",
        "\n",
        "print(len(roughness))\n",
        "print(len(phi))\n",
        "print(gamma.shape)\n",
        "low_fidel_input=pd.DataFrame({'shear rate': gamma, 'AR':AR,'roughness':roughness, 'rigidity':rigidity, 'volume fraction':phi})\n",
        "\n",
        "\n",
        "X=low_fidel_input.iloc[:,1:].to_numpy()\n",
        "\n",
        "X_scaled = scale.transform(X)\n",
        "X_torch=torch.tensor(X_scaled).float()\n",
        "\n",
        "low_fidel_coeff_NN_pred=net(X_torch).detach().numpy()\n",
        "tau_0=low_fidel_coeff_NN_pred[:,0]\n",
        "k=low_fidel_coeff_NN_pred[:,1]\n",
        "\n",
        "viscosity_low_fidel= (np.sqrt(tau_0)+np.sqrt(k*gamma))**2/gamma\n",
        "low_fidel_input['viscosity']=viscosity_low_fidel\n",
        "\n",
        "\n",
        "low_fidel_input=low_fidel_input.iloc[0:samp,:]"
      ],
      "metadata": {
        "id": "HrRm8eeLl5K2",
        "colab": {
          "base_uri": "https://localhost:8080/"
        },
        "outputId": "0c312eb4-6cdc-45f8-af68-9641c6dae229"
      },
      "execution_count": 43,
      "outputs": [
        {
          "output_type": "stream",
          "name": "stdout",
          "text": [
            "1000\n",
            "1000\n",
            "(1000,)\n"
          ]
        },
        {
          "output_type": "stream",
          "name": "stderr",
          "text": [
            " /usr/local/lib/python3.7/dist-packages/sklearn/base.py:451: UserWarning:X does not have valid feature names, but MinMaxScaler was fitted with feature names\n"
          ]
        }
      ]
    },
    {
      "cell_type": "markdown",
      "source": [
        "**Multi-fidelity Neural Networks**\n",
        "\n",
        "Here we used two neural networks consecutively where the first network is used as the low-fidelity network and is trained with low-fidelity data, and the second network is the high-fidelity network trained with the high-fidelity data in addition to the output of the low-fidelity network, which is fed into the high-fidelity network as an extra input."
      ],
      "metadata": {
        "id": "JJ7YbYCablo5"
      }
    },
    {
      "cell_type": "code",
      "source": [
        "X_train_low_fidel=low_fidel_input.drop(['viscosity'], axis=1).to_numpy()\n",
        "y_train_low_fidel=low_fidel_input[[\"viscosity\"]].to_numpy()\n",
        "data_train=pd.read_csv(\"/content/drive/MyDrive/Rheology/Data_github/Data_highfidelity_train_short.csv\")\n",
        "data_test=pd.read_csv(\"/content/drive/MyDrive/Rheology/Data_github/Data_highfidelity_test.csv\")\n",
        "X_train_high_fidel=data_train.drop(['viscosity','Re'], axis=1).to_numpy()\n",
        "y_train_high_fidel=data_train[[\"viscosity\"]].to_numpy()\n",
        "X_test_high_fidel=data_test.drop(['viscosity','Re'], axis=1).to_numpy()\n",
        "y_test_high_fidel=data_test[[\"viscosity\"]].to_numpy()\n",
        "\n",
        "X_show=data_train.drop(['Re','AR'], axis=1)\n",
        "\n",
        "from sklearn.model_selection import train_test_split\n",
        "from sklearn.preprocessing import MinMaxScaler\n",
        "scale=MinMaxScaler()\n",
        "\n",
        "X_train_low_fidel_scaled = scale.fit_transform(X_train_low_fidel)\n",
        "X_train_high_fidel_scaled = scale.transform(X_train_high_fidel)\n",
        "X_test_high_fidel_scaled = scale.transform(X_test_high_fidel)\n",
        "\n",
        "\"\"\"X_train_low_fidel_scaled = X_train_low_fidel\n",
        "X_train_high_fidel_scaled = X_train_high_fidel\n",
        "X_test_high_fidel_scaled = X_test_high_fidel\"\"\"\n",
        "\n",
        "#torch.manual_seed(0)    # reproducible\n",
        "#import random\n",
        "#random.seed(0)\n",
        "\n",
        "X_torch_low_fidel_train=torch.tensor(X_train_low_fidel_scaled).float()\n",
        "y_torch_low_fidel_train=torch.tensor(y_train_low_fidel).float()\n",
        "X_torch_high_fidel_train=torch.tensor(X_train_high_fidel_scaled).float()\n",
        "y_torch_high_fidel_train=torch.tensor(y_train_high_fidel).float()\n",
        "X_torch_high_fidel_test=torch.tensor(X_test_high_fidel_scaled).float()\n",
        "y_torch_high_fidel_test=torch.tensor(y_test_high_fidel).float()"
      ],
      "metadata": {
        "id": "uBDLaGXFbk2q"
      },
      "execution_count": 109,
      "outputs": []
    },
    {
      "cell_type": "code",
      "source": [
        "random.seed(0)\n",
        "torch.manual_seed(0)\n",
        "torch.cuda.manual_seed(0)\n",
        "np.random.seed(0)\n",
        "N_n=20\n",
        "N_l=2\n",
        "weight_decay=0.0\n",
        "deghat=2\n",
        "net_low_fidel = torch.nn.Sequential(\n",
        "        torch.nn.Linear(X_torch_low_fidel_train.shape[1], N_n),\n",
        "        torch.nn.ReLU(),\n",
        "        torch.nn.Linear(N_n, N_n),\n",
        "        torch.nn.ReLU(),\n",
        "        torch.nn.Linear(N_n, N_n),\n",
        "        torch.nn.ReLU(),\n",
        "        torch.nn.Linear(N_n, N_n),\n",
        "        torch.nn.ReLU(),\n",
        "       # torch.nn.Linear(N_n, N_n),\n",
        "       # torch.nn.ReLU(),\n",
        "        torch.nn.Linear(N_n, 1))\n",
        "\n",
        "class Net_high_fidel(torch.nn.Module):\n",
        "      def __init__(self):\n",
        "          super(Net_high_fidel, self).__init__()\n",
        "          self.hidden = torch.nn.Linear(X_torch_low_fidel_train.shape[1]+1,N_n)   # initial layer\n",
        "          self.hidden_2 = torch.nn.Linear(N_n,N_n)\n",
        "          self.predict = torch.nn.Linear(N_n, 1)  # output layer\n",
        "        \n",
        "      def forward(self, x):\n",
        "          x_nl = self.predict(F.relu(self.hidden_2(F.relu(self.hidden(x)))))\n",
        "          x_l = self.predict(self.hidden(x))             # linear output\n",
        "          return x_l+x_nl\n",
        "\n",
        "N_n=5\n",
        "\n",
        "net_high_fidel=Net_high_fidel()\n",
        "optimizer_low_fidel = torch.optim.Adam(net_low_fidel.parameters(), lr=0.01)\n",
        "optimizer_high_fidel = torch.optim.Adam(net_high_fidel.parameters(), lr=0.01)\n",
        "optimizer= torch.optim.Adam(list(net_high_fidel.parameters())+list(net_low_fidel.parameters()), lr=0.001, weight_decay=weight_decay)\n",
        "\n",
        "\n",
        "loss_func = torch.nn.MSELoss()  # this is for regression mean squared loss\n",
        "\n",
        "# train the network\n",
        "loss_low_fidel_train_tally=[]\n",
        "loss_high_fidel_test_tally=[]\n",
        "loss_high_fidel_train_tally=[]\n",
        "epochs=range(1,10000)\n",
        "for t in epochs: \n",
        "    prediction_low_fidel_train = net_low_fidel(X_torch_low_fidel_train)\n",
        "    loss_low_fidel_train=loss_func(prediction_low_fidel_train , y_torch_low_fidel_train)   \n",
        "    loss_low_fidel_train_tally.append(loss_low_fidel_train.detach().numpy().item())\n",
        "\n",
        "    X_torch_high_fidel_train_new=torch.cat((X_torch_high_fidel_train, net_low_fidel(X_torch_high_fidel_train)), 1)\n",
        "    X_torch_high_fidel_test_new=torch.cat((X_torch_high_fidel_test, net_low_fidel(X_torch_high_fidel_test)), 1)\n",
        "    prediction_high_fidel_train=net_high_fidel(X_torch_high_fidel_train_new)\n",
        "    prediction_high_fidel_test=net_high_fidel(X_torch_high_fidel_test_new)\n",
        "    loss_high_fidel_train=loss_func(prediction_high_fidel_train, y_torch_high_fidel_train)   \n",
        "    loss_high_fidel_train_tally.append(loss_high_fidel_train.detach().numpy().item())\n",
        "    loss_high_fidel_test=loss_func(prediction_high_fidel_test, y_torch_high_fidel_test)   \n",
        "    loss_high_fidel_test_tally.append(loss_high_fidel_test.detach().numpy().item())\n",
        "\n",
        "    loss=loss_low_fidel_train+loss_high_fidel_train\n",
        "    optimizer.zero_grad()\n",
        "    loss.backward()\n",
        "    optimizer.step() \n",
        "   "
      ],
      "metadata": {
        "id": "pyX-sJVEfx1Z"
      },
      "execution_count": 110,
      "outputs": []
    },
    {
      "cell_type": "code",
      "source": [
        "print('R^2 socer=',np.round_(r2_score( y_test_high_fidel,prediction_high_fidel_test.detach().numpy()),4))\n",
        "plt.subplots(figsize=(8,6))\n",
        "plt.plot(epochs,loss_low_fidel_train_tally,label='loss low fidelity train')\n",
        "plt.plot(epochs,loss_high_fidel_train_tally,label='loss high fidelity train')\n",
        "plt.plot(epochs,loss_high_fidel_test_tally,label='loss high fidelity test')\n",
        "\n",
        "plt.xlabel(r'epoch', fontsize=25)\n",
        "plt.ylabel(r'loss', fontsize=25)\n",
        "plt.xticks(weight = 'bold')\n",
        "plt.yticks(weight = 'bold')\n",
        "plt.title('viscosity loss Multi-Fidelity',fontsize=20)\n",
        "plt.legend(fontsize=15)"
      ],
      "metadata": {
        "colab": {
          "base_uri": "https://localhost:8080/",
          "height": 459
        },
        "id": "Sr-QoCDmf1Nx",
        "outputId": "d697ffa3-5f37-4819-a880-956ebf6c3c5f"
      },
      "execution_count": 111,
      "outputs": [
        {
          "output_type": "stream",
          "name": "stdout",
          "text": [
            "R^2 socer= 0.8815\n"
          ]
        },
        {
          "output_type": "execute_result",
          "data": {
            "text/plain": [
              "<matplotlib.legend.Legend at 0x7f5920a70c50>"
            ]
          },
          "metadata": {},
          "execution_count": 111
        },
        {
          "output_type": "display_data",
          "data": {
            "text/plain": [
              "<Figure size 576x432 with 1 Axes>"
            ],
            "image/png": "[encoded data removed]"
          },
          "metadata": {
            "needs_background": "light"
          }
        }
      ]
    },
    {
      "cell_type": "markdown",
      "source": [
        "**Single fidelity GP**\n",
        "\n",
        "Here, we read the high-fidelity train and test dataset and use them for training and testing a single-fidelity Gaussian process."
      ],
      "metadata": {
        "id": "4ST45Kk4iUtJ"
      }
    },
    {
      "cell_type": "code",
      "source": [
        "data_train=pd.read_csv(\"/content/drive/MyDrive/Rheology/Data_github/Data_highfidelity_train_short.csv\")\n",
        "data_test=pd.read_csv(\"/content/drive/MyDrive/Rheology/Data_github/Data_highfidelity_test.csv\")\n",
        "\n",
        "\n",
        "data_train.dropna(inplace=True,axis=1, how='all')\n",
        "#data_test.dropna(inplace=True)\n",
        "X2=data_train.drop(['viscosity','Re'], axis=1).to_numpy()\n",
        "Y2=data_train[[\"viscosity\"]].to_numpy()\n",
        "Xtest=data_test.drop(['viscosity','Re'], axis=1).to_numpy()\n",
        "Ytest=data_test[[\"viscosity\"]].to_numpy()\n",
        "\n"
      ],
      "metadata": {
        "id": "2wzGmB0GiXs2"
      },
      "execution_count": 113,
      "outputs": []
    },
    {
      "cell_type": "code",
      "source": [
        "random.seed(0)\n",
        "np.random.seed(0)\n",
        "\n",
        "dim = X2.shape[1]\n",
        "\n",
        "kernel='RatQuad'\n",
        "random.seed(0)\n",
        "np.random.seed(0)\n",
        "k4=GPy.kern.RatQuad(dim,ARD=True)\n",
        "\n",
        "#kernel='RBF'\n",
        "#k4=GPy.kern.RBF(dim,ARD = True)\n",
        "m4 = GPy.models.GPRegression(X=X2, Y=Y2, kernel=k4, noise_var=0)\n",
        "\n",
        "start = time.time()\n",
        "m4[\".*Gaussian_noise\"] = m4.Y.var()*0.001\n",
        "m4[\".*Gaussian_noise\"].fix()## we don't want the algorithm to optimize the epsilon,  y=f+epsilon for our data epsioln is zero. however, for numerical stability we set it a small value \n",
        "\n",
        "m4.optimize(max_iters = 100)\n",
        "\n",
        "m4.optimize_restarts(5, optimizer = \"bfgs\",  max_iters = 100) #do this with different initial conditions for better results\n",
        "\n",
        "end = time.time()\n",
        "\n",
        "\n",
        "mu4, v4 = m4.predict(Xtest)\n",
        "\n",
        "r2_test_GP=r2_score(Ytest,mu4)\n",
        "test_loss=mean_squared_error(mu4, Ytest)\n",
        "\n",
        "\n",
        "print('GP_loss=',np.round_(test_loss,4))\n",
        "print('GP_R2score=',np.round_(r2_test_GP,4))"
      ],
      "metadata": {
        "colab": {
          "base_uri": "https://localhost:8080/"
        },
        "id": "qpx_kJe0jgQf",
        "outputId": "cbfb354a-3b5a-4d3f-9fdf-885478560e03"
      },
      "execution_count": 114,
      "outputs": [
        {
          "output_type": "stream",
          "name": "stdout",
          "text": [
            "Optimization restart 1/5, f = 129.67117806761328\n",
            "Optimization restart 2/5, f = 228.5387761264438\n",
            "Optimization restart 3/5, f = 130.1321902500773\n",
            "Optimization restart 4/5, f = 130.84339437341626\n",
            "Optimization restart 5/5, f = 184.7431981009795\n",
            "GP_loss= 31.3098\n",
            "GP_R2score= 0.5293\n"
          ]
        }
      ]
    },
    {
      "cell_type": "markdown",
      "source": [
        "**Multi-fidelity Gaussian Process (MFGP)**\n",
        "\n",
        "Here we used two GPs consecutively where the first network is used as the low-fidelity network and is trained with low-fidelity data, and the second network is the high-fidelity network trained with the high-fidelity data in addition to the output of the low-fidelity network, which is fed into the high-fidelity network as an extra input."
      ],
      "metadata": {
        "id": "5gjZtlWJofPG"
      }
    },
    {
      "cell_type": "code",
      "source": [
        "X_train_low_fidel=low_fidel_input.drop(['viscosity'], axis=1).to_numpy()\n",
        "y_train_low_fidel=low_fidel_input[[\"viscosity\"]].to_numpy()\n",
        "X_train_high_fidel=data_train.drop(['viscosity','Re'], axis=1).to_numpy()\n",
        "y_train_high_fidel=data_train[[\"viscosity\"]].to_numpy()\n",
        "X_test_high_fidel=data_test.drop(['viscosity','Re'], axis=1).to_numpy()\n",
        "y_test_high_fidel=data_test[[\"viscosity\"]].to_numpy()\n",
        "num_of_low_fidel_data=len(X_train_low_fidel[:,0])\n"
      ],
      "metadata": {
        "id": "Op52ShTtkvLN"
      },
      "execution_count": 117,
      "outputs": []
    },
    {
      "cell_type": "code",
      "source": [
        "dim = X_train_high_fidel.shape[1]\n",
        "active_dimensions = np.arange(0,dim)\n",
        "seed=0\n",
        "X1 = X_train_low_fidel\n",
        "X2 = X_train_high_fidel\n",
        "Xtest = X_test_high_fidel\n",
        "\n",
        "Y1 = y_train_low_fidel\n",
        "Y2 = y_train_high_fidel\n",
        "Exact = y_test_high_fidel\n",
        "\n",
        "N1 = X1.shape[0]\n",
        "N2 = X2.shape[0]\n",
        "\n",
        "deghat=2\n",
        "\n",
        "\n",
        "\n",
        "\n",
        "start = time.time()\n",
        "\n",
        "''' Train level 1 '''\n",
        "kernel='Matern32'\n",
        "random.seed(0)\n",
        "np.random.seed(0)\n",
        "k1 = k1=GPy.kern.Matern52(dim,ARD=True)\n",
        "m1 = GPy.models.GPRegression(X=X1, Y=Y1, kernel=k1)\n",
        "\n",
        "m1[\".*Gaussian_noise\"] = m1.Y.var()*0.01\n",
        "m1[\".*Gaussian_noise\"].fix()\n",
        "\n",
        "m1.optimize(max_iters = 200)\n",
        "\n",
        "m1[\".*Gaussian_noise\"].unfix()\n",
        "m1[\".*Gaussian_noise\"].constrain_positive()\n",
        "\n",
        "m1.optimize_restarts(5, optimizer = \"bfgs\",  max_iters = 100)\n",
        "\n",
        "mu1, v1 = m1.predict(X2)\n",
        "\n",
        "''' Train level 2 '''\n",
        "XX = np.hstack((X2, mu1))\n",
        "\n",
        "k2 = GPy.kern.Matern32(1, active_dims = [dim])*GPy.kern.Matern32(dim, active_dims = active_dimensions, ARD = True) \\\n",
        "    + GPy.kern.Matern32(dim, active_dims = active_dimensions, ARD = True)\n",
        "\n",
        "\n",
        "m2 = GPy.models.GPRegression(X=XX, Y=Y2, kernel=k2)\n",
        "\n",
        "m2[\".*Gaussian_noise\"] = m2.Y.var()*0.01\n",
        "m2[\".*Gaussian_noise\"].fix()\n",
        "\n",
        "m2.optimize(max_iters = 200)\n",
        "\n",
        "m2[\".*Gaussian_noise\"].unfix()\n",
        "m2[\".*Gaussian_noise\"].constrain_positive()\n",
        "\n",
        "m2.optimize_restarts(5, optimizer = \"bfgs\",  max_iters = 100)\n",
        "\n",
        "end = time.time()\n",
        "print(\"Training AR-GP done in %f seconds\" % (end - start))\n",
        "\n",
        "# Predict at test points\n",
        "nsamples = 1000\n",
        "ntest = Xtest.shape[0]\n",
        "mu0, C0 = m1.predict(Xtest, full_cov=True)\n",
        "Z = np.random.multivariate_normal(mu0.flatten(),C0,nsamples)\n",
        "tmp_m = np.zeros((nsamples,ntest))\n",
        "tmp_v = np.zeros((nsamples,ntest))\n",
        "\n",
        "\n",
        "\n",
        "# push samples through f_2\n",
        "for i in range(0,nsamples):\n",
        "    mu, v = m2.predict(np.hstack((Xtest, Z[i,:][:,None])))\n",
        "    tmp_m[i,:] = mu.flatten()\n",
        "    tmp_v[i,:] = v.flatten()\n",
        "\n",
        "# get mean and variance at X3\n",
        "mu2 = np.mean(tmp_m, axis = 0)\n",
        "v2 = np.mean(tmp_v, axis = 0) + np.var(tmp_m, axis = 0)\n",
        "mu2 = mu2[:,None]\n",
        "v2 = np.abs(v2[:,None])\n",
        "\n",
        "\n",
        "\n",
        "r2_test_MFGP=r2_score(Exact,mu2)\n",
        "test_loss=mean_squared_error(mu2, Exact)\n",
        "\n",
        "print('MFGP_loss=',np.round_(test_loss,4))\n",
        "print('MFGP_R2score=',np.round_(r2_test_MFGP,4))\n"
      ],
      "metadata": {
        "colab": {
          "base_uri": "https://localhost:8080/"
        },
        "id": "vVJZvgLapQQm",
        "outputId": "ec818d5e-5477-4568-8d32-55e29330b7c0"
      },
      "execution_count": 118,
      "outputs": [
        {
          "output_type": "stream",
          "name": "stderr",
          "text": [
            "WARNING:variance:reconstraining parameters GP_regression.Gaussian_noise.variance\n"
          ]
        },
        {
          "output_type": "stream",
          "name": "stdout",
          "text": [
            "Optimization restart 1/5, f = 1637.7915439814967\n",
            "Optimization restart 2/5, f = 1637.7915438862692\n",
            "Optimization restart 3/5, f = 1637.7915442493363\n",
            "Optimization restart 4/5, f = 1637.791554306687\n",
            "Optimization restart 5/5, f = 1682.8876973821016\n"
          ]
        },
        {
          "output_type": "stream",
          "name": "stderr",
          "text": [
            "WARNING:variance:reconstraining parameters GP_regression.Gaussian_noise.variance\n"
          ]
        },
        {
          "output_type": "stream",
          "name": "stdout",
          "text": [
            "Optimization restart 1/5, f = 131.42814710275525\n",
            "Optimization restart 2/5, f = 118.8217853848341\n",
            "Optimization restart 3/5, f = 124.39223629491329\n",
            "Optimization restart 4/5, f = 106.74563890348243\n",
            "Optimization restart 5/5, f = 111.57039643316736\n",
            "Training AR-GP done in 212.484645 seconds\n",
            "MFGP_loss= 7.6604\n",
            "MFGP_R2score= 0.8848\n"
          ]
        }
      ]
    }
  ]
}